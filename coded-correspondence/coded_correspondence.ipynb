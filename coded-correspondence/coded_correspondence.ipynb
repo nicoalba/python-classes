{
 "cells": [
  {
   "cell_type": "markdown",
   "metadata": {},
   "source": [
    "# Python project: Encoded correspondence\n",
    "\n",
    "This notebook showcases a series of Python-based cryptography exercises, including Caesar and Vigenère cipher implementations, built and tested in a Jupyter environment. Originally part of a Codecademy course, I cleaned up the original notebook by removing instructional content and adding Markdown content to make the logic easier to follow. This project demonstrates my ability to write clean, readable Python code while applying foundational computer science principles in a practical context.\n",
    "\n",
    "Encoded message:\n",
    "```text\n",
    "xuo jxuhu! jxyi yi qd unqcfbu ev q squiqh syfxuh. muhu oek qrbu je tusetu yj? y xefu ie! iudt cu q cuiiqwu rqsa myjx jxu iqcu evviuj!\n",
    "\n",
    "This message has an offset of 10. Can you decode it?\n",
    "```"
   ]
  },
  {
   "cell_type": "markdown",
   "metadata": {},
   "source": [
    "### Step 1: Decode the message\n",
    "Map a single letter to its position:"
   ]
  },
  {
   "cell_type": "code",
   "execution_count": 1,
   "metadata": {},
   "outputs": [
    {
     "name": "stdout",
     "output_type": "stream",
     "text": [
      "4\n"
     ]
    }
   ],
   "source": [
    "alphabet = \"abcdefghijklmnopqrstuvwxyz\"\n",
    "letter = \"e\"\n",
    "position = alphabet.index(letter)\n",
    "print(position)  # should be 4, since 'e' is the 5th letter (starting at 0)"
   ]
  },
  {
   "cell_type": "markdown",
   "metadata": {},
   "source": [
    "Apply a Caesar shift to decode (10 spots to the right):"
   ]
  },
  {
   "cell_type": "code",
   "execution_count": 2,
   "metadata": {},
   "outputs": [
    {
     "name": "stdout",
     "output_type": "stream",
     "text": [
      "o\n"
     ]
    }
   ],
   "source": [
    "shift = 10\n",
    "new_position = (position + shift) % 26\n",
    "decoded_letter = alphabet[new_position]\n",
    "print(decoded_letter)"
   ]
  },
  {
   "cell_type": "markdown",
   "metadata": {},
   "source": [
    "Decode a full string:"
   ]
  },
  {
   "cell_type": "code",
   "execution_count": 5,
   "metadata": {},
   "outputs": [
    {
     "name": "stdout",
     "output_type": "stream",
     "text": [
      "hey there! this is an example of a caesar cipher. were you able to decode it? i hope so! send me a message back with the same offset!\n"
     ]
    }
   ],
   "source": [
    "alphabet = \"abcdefghijklmnopqrstuvwxyz\"\n",
    "message = \"xuo jxuhu! jxyi yi qd unqcfbu ev q squiqh syfxuh. muhu oek qrbu je tusetu yj? y xefu ie! iudt cu q cuiiqwu rqsa myjx jxu iqcu evviuj!\"\n",
    "shift = 10\n",
    "decoded_message = \"\"\n",
    "\n",
    "for char in message:\n",
    "    if char in alphabet:\n",
    "        index = alphabet.index(char)\n",
    "        new_index = (index + shift) % 26\n",
    "        decoded_message += alphabet[new_index]\n",
    "    else:\n",
    "        decoded_message += char\n",
    "\n",
    "print(decoded_message)"
   ]
  },
  {
   "cell_type": "markdown",
   "metadata": {},
   "source": [
    "### Step 2: Send a coded message"
   ]
  },
  {
   "cell_type": "markdown",
   "metadata": {},
   "source": [
    "Encode a full string (change shift to -10):"
   ]
  },
  {
   "cell_type": "code",
   "execution_count": 4,
   "metadata": {},
   "outputs": [
    {
     "name": "stdout",
     "output_type": "stream",
     "text": [
      "xy lyixqb. jxyi yi dyse qdt y'c iudtydw eluh co udsetut cuiiqwu!\n"
     ]
    }
   ],
   "source": [
    "alphabet = \"abcdefghijklmnopqrstuvwxyz\"\n",
    "message = \"hi vishal. this is nico and i'm sending over my encoded message!\"\n",
    "shift = -10\n",
    "encoded_message = \"\"\n",
    "\n",
    "for char in message:\n",
    "    if char in alphabet:\n",
    "        index = alphabet.index(char)\n",
    "        new_index = (index + shift) % 26\n",
    "        encoded_message += alphabet[new_index]\n",
    "    else:\n",
    "        encoded_message += char\n",
    "\n",
    "print(encoded_message)"
   ]
  },
  {
   "cell_type": "markdown",
   "metadata": {},
   "source": [
    "#### Step 3: Make functions for decoding and coding \n",
    "\n",
    "New encoded message #1:\n",
    "\n",
    "```text\n",
    "jxu evviuj veh jxu iusedt cuiiqwu yi vekhjuud.\n",
    "```\n",
    "        \n",
    "New encoded message #2:\n",
    "\n",
    "```text\n",
    "bqdradyuzs ygxfubxq omqemd oubtqde fa oapq kagd yqeemsqe ue qhqz yadq eqogdq!\n",
    "``` "
   ]
  },
  {
   "cell_type": "markdown",
   "metadata": {},
   "source": [
    "Create function for decoding message:"
   ]
  },
  {
   "cell_type": "code",
   "execution_count": 5,
   "metadata": {},
   "outputs": [],
   "source": [
    "def decode_caesar(message, shift):\n",
    "    alphabet = \"abcdefghijklmnopqrstuvwxyz\"\n",
    "    decoded_message = \"\"\n",
    "\n",
    "    for char in message:\n",
    "        if char in alphabet:\n",
    "            index = alphabet.index(char)\n",
    "            new_index = (index + shift) % 26\n",
    "            decoded_message += alphabet[new_index]\n",
    "        else:\n",
    "            decoded_message += char\n",
    "\n",
    "    return decoded_message"
   ]
  },
  {
   "cell_type": "markdown",
   "metadata": {},
   "source": [
    "Create function for encoding message:"
   ]
  },
  {
   "cell_type": "code",
   "execution_count": 6,
   "metadata": {},
   "outputs": [],
   "source": [
    "def encode_caesar(message, shift):\n",
    "    alphabet = \"abcdefghijklmnopqrstuvwxyz\"\n",
    "    encoded_message = \"\"\n",
    "\n",
    "    for char in message:\n",
    "        if char in alphabet:\n",
    "            index = alphabet.index(char)\n",
    "            new_index = (index + shift) % 26\n",
    "            encoded_message += alphabet[new_index]\n",
    "        else:\n",
    "            encoded_message += char\n",
    "\n",
    "    return encoded_message"
   ]
  },
  {
   "cell_type": "markdown",
   "metadata": {},
   "source": [
    "Decode the 2 new messages:"
   ]
  },
  {
   "cell_type": "code",
   "execution_count": 7,
   "metadata": {},
   "outputs": [
    {
     "name": "stdout",
     "output_type": "stream",
     "text": [
      "the offset for the second message is fourteen.\n"
     ]
    }
   ],
   "source": [
    "message = \"jxu evviuj veh jxu iusedt cuiiqwu yi vekhjuud.\"\n",
    "shift = 10\n",
    "\n",
    "def decode_caesar(message, shift):\n",
    "    alphabet = \"abcdefghijklmnopqrstuvwxyz\"\n",
    "    decoded_message = \"\"\n",
    "\n",
    "    for char in message:\n",
    "        if char in alphabet:\n",
    "            index = alphabet.index(char)\n",
    "            new_index = (index + shift) % 26\n",
    "            decoded_message += alphabet[new_index]\n",
    "        else:\n",
    "            decoded_message += char\n",
    "\n",
    "    return decoded_message\n",
    "\n",
    "print(decode_caesar(message, 10))"
   ]
  },
  {
   "cell_type": "code",
   "execution_count": 8,
   "metadata": {},
   "outputs": [
    {
     "name": "stdout",
     "output_type": "stream",
     "text": [
      "performing multiple caesar ciphers to code your messages is even more secure!\n"
     ]
    }
   ],
   "source": [
    "message = \"bqdradyuzs ygxfubxq omqemd oubtqde fa oapq kagd yqeemsqe ue qhqz yadq eqogdq!\"\n",
    "shift = 14\n",
    "\n",
    "def decode_caesar(message, shift):\n",
    "    alphabet = \"abcdefghijklmnopqrstuvwxyz\"\n",
    "    decoded_message = \"\"\n",
    "\n",
    "    for char in message:\n",
    "        if char in alphabet:\n",
    "            index = alphabet.index(char)\n",
    "            new_index = (index + shift) % 26\n",
    "            decoded_message += alphabet[new_index]\n",
    "        else:\n",
    "            decoded_message += char\n",
    "\n",
    "    return decoded_message\n",
    "\n",
    "print(decode_caesar(message, 14))"
   ]
  },
  {
   "cell_type": "markdown",
   "metadata": {},
   "source": [
    "#### Step 4: Solve a Caesar Cipher without knowing the shift value\n",
    "\n",
    "Encoded message with no shift info:\n",
    "\n",
    "```text\n",
    "vhfinmxkl atox kxgwxkxw tee hy maxlx hew vbiaxkl hulhexmx. px'ee atox mh kxteer lmxi ni hnk ztfx by px ptgm mh dxxi hnk fxlltzxl ltyx.\n",
    "```"
   ]
  },
  {
   "cell_type": "markdown",
   "metadata": {},
   "source": [
    "Brute force Caesar Cipher to find the shift:"
   ]
  },
  {
   "cell_type": "code",
   "execution_count": 9,
   "metadata": {},
   "outputs": [
    {
     "name": "stdout",
     "output_type": "stream",
     "text": [
      "Shift: 1:wigjonylm bupy lyhxylyx uff iz nbymy ifx wcjbylm ivmifyny. qy'ff bupy ni lyuffs mnyj oj iol augy cz qy quhn ni eyyj iol gymmuaym muzy.\n",
      "\n",
      "Shift: 2:xjhkpozmn cvqz mziyzmzy vgg ja ocznz jgy xdkczmn jwnjgzoz. rz'gg cvqz oj mzvggt nozk pk jpm bvhz da rz rvio oj fzzk jpm hznnvbzn nvaz.\n",
      "\n",
      "Shift: 3:ykilqpano dwra najzanaz whh kb pdaoa khz yeldano kxokhapa. sa'hh dwra pk nawhhu opal ql kqn cwia eb sa swjp pk gaal kqn iaoowcao owba.\n",
      "\n",
      "Shift: 4:zljmrqbop exsb obkaboba xii lc qebpb lia zfmebop lyplibqb. tb'ii exsb ql obxiiv pqbm rm lro dxjb fc tb txkq ql hbbm lro jbppxdbp pxcb.\n",
      "\n",
      "Shift: 5:amknsrcpq fytc pclbcpcb yjj md rfcqc mjb agnfcpq mzqmjcrc. uc'jj fytc rm pcyjjw qrcn sn msp eykc gd uc uylr rm iccn msp kcqqyecq qydc.\n",
      "\n",
      "Shift: 6:bnlotsdqr gzud qdmcdqdc zkk ne sgdrd nkc bhogdqr narnkdsd. vd'kk gzud sn qdzkkx rsdo to ntq fzld he vd vzms sn jddo ntq ldrrzfdr rzed.\n",
      "\n",
      "Shift: 7:computers have rendered all of these old ciphers obsolete. we'll have to really step up our game if we want to keep our messages safe.\n",
      "\n",
      "Shift: 8:dpnqvufst ibwf sfoefsfe bmm pg uiftf pme djqifst pctpmfuf. xf'mm ibwf up sfbmmz tufq vq pvs hbnf jg xf xbou up lffq pvs nfttbhft tbgf.\n",
      "\n",
      "Shift: 9:eqorwvgtu jcxg tgpfgtgf cnn qh vjgug qnf ekrjgtu qduqngvg. yg'nn jcxg vq tgcnna uvgr wr qwt icog kh yg ycpv vq mggr qwt oguucigu uchg.\n",
      "\n",
      "Shift: 10:frpsxwhuv kdyh uhqghuhg doo ri wkhvh rog flskhuv revrohwh. zh'oo kdyh wr uhdoob vwhs xs rxu jdph li zh zdqw wr nhhs rxu phvvdjhv vdih.\n",
      "\n",
      "Shift: 11:gsqtyxivw lezi virhivih epp sj xliwi sph gmtlivw sfwspixi. ai'pp lezi xs vieppc wxit yt syv keqi mj ai aerx xs oiit syv qiwwekiw weji.\n",
      "\n",
      "Shift: 12:htruzyjwx mfaj wjsijwji fqq tk ymjxj tqi hnumjwx tgxtqjyj. bj'qq mfaj yt wjfqqd xyju zu tzw lfrj nk bj bfsy yt pjju tzw rjxxfljx xfkj.\n",
      "\n",
      "Shift: 13:iusvazkxy ngbk xktjkxkj grr ul znkyk urj iovnkxy uhyurkzk. ck'rr ngbk zu xkgrre yzkv av uax mgsk ol ck cgtz zu qkkv uax skyygmky yglk.\n",
      "\n",
      "Shift: 14:jvtwbalyz ohcl yluklylk hss vm aolzl vsk jpwolyz vizvslal. dl'ss ohcl av ylhssf zalw bw vby nhtl pm dl dhua av rllw vby tlzzhnlz zhml.\n",
      "\n",
      "Shift: 15:kwuxcbmza pidm zmvlmzml itt wn bpmam wtl kqxpmza wjawtmbm. em'tt pidm bw zmittg abmx cx wcz oium qn em eivb bw smmx wcz umaaioma ainm.\n",
      "\n",
      "Shift: 16:lxvydcnab qjen anwmnanm juu xo cqnbn xum lryqnab xkbxuncn. fn'uu qjen cx anjuuh bcny dy xda pjvn ro fn fjwc cx tnny xda vnbbjpnb bjon.\n",
      "\n",
      "Shift: 17:mywzedobc rkfo boxnobon kvv yp droco yvn mszrobc ylcyvodo. go'vv rkfo dy bokvvi cdoz ez yeb qkwo sp go gkxd dy uooz yeb wocckqoc ckpo.\n",
      "\n",
      "Shift: 18:nzxafepcd slgp cpyopcpo lww zq espdp zwo ntaspcd zmdzwpep. hp'ww slgp ez cplwwj depa fa zfc rlxp tq hp hlye ez vppa zfc xpddlrpd dlqp.\n",
      "\n",
      "Shift: 19:oaybgfqde tmhq dqzpqdqp mxx ar ftqeq axp oubtqde aneaxqfq. iq'xx tmhq fa dqmxxk efqb gb agd smyq ur iq imzf fa wqqb agd yqeemsqe emrq.\n",
      "\n",
      "Shift: 20:pbzchgref unir eraqrerq nyy bs gurfr byq pvcuref bofbyrgr. jr'yy unir gb ernyyl fgrc hc bhe tnzr vs jr jnag gb xrrc bhe zrffntrf fnsr.\n",
      "\n",
      "Shift: 21:qcadihsfg vojs fsbrsfsr ozz ct hvsgs czr qwdvsfg cpgczshs. ks'zz vojs hc fsozzm ghsd id cif uoas wt ks kobh hc yssd cif asggousg gots.\n",
      "\n",
      "Shift: 22:rdbejitgh wpkt gtcstgts paa du iwtht das rxewtgh dqhdatit. lt'aa wpkt id gtpaan hite je djg vpbt xu lt lpci id ztte djg bthhpvth hput.\n",
      "\n",
      "Shift: 23:secfkjuhi xqlu hudtuhut qbb ev jxuiu ebt syfxuhi eriebuju. mu'bb xqlu je huqbbo ijuf kf ekh wqcu yv mu mqdj je auuf ekh cuiiqwui iqvu.\n",
      "\n",
      "Shift: 24:tfdglkvij yrmv iveuvivu rcc fw kyvjv fcu tzgyvij fsjfcvkv. nv'cc yrmv kf ivrccp jkvg lg fli xrdv zw nv nrek kf bvvg fli dvjjrxvj jrwv.\n",
      "\n",
      "Shift: 25:ugehmlwjk zsnw jwfvwjwv sdd gx lzwkw gdv uahzwjk gtkgdwlw. ow'dd zsnw lg jwsddq klwh mh gmj ysew ax ow osfl lg cwwh gmj ewkksywk ksxw.\n",
      "\n"
     ]
    }
   ],
   "source": [
    "def decode_caesar(message, shift):\n",
    "    alphabet = \"abcdefghijklmnopqrstuvwxyz\"\n",
    "    decoded_message = \"\"\n",
    "\n",
    "    for char in message:\n",
    "        if char in alphabet:\n",
    "            index = alphabet.index(char)\n",
    "            new_index = (index + shift) % 26\n",
    "            decoded_message += alphabet[new_index]\n",
    "        else:\n",
    "            decoded_message += char\n",
    "\n",
    "    return decoded_message\n",
    "\n",
    "message = \"vhfinmxkl atox kxgwxkxw tee hy maxlx hew vbiaxkl hulhexmx. px'ee atox mh kxteer lmxi ni hnk ztfx by px ptgm mh dxxi hnk fxlltzxl ltyx.\"\n",
    "\n",
    "for shift in range(1,26):\n",
    "    decoded = decode_caesar(message, shift)\n",
    "    print(f\"Shift: {shift}:{decoded}\\n\")"
   ]
  },
  {
   "cell_type": "markdown",
   "metadata": {},
   "source": [
    "#### Step 5: The Vigenère Cipher\n",
    "\n",
    "Encoded message:\n",
    "\n",
    "```text            \n",
    "txm srom vkda gl lzlgzr qpdb? fepb ejac! ubr imn tapludwy mhfbz cza ruxzal wg zztcgcexxch!\n",
    "\n",
    "and the keyword to decode my message is:\n",
    "\n",
    "friends\n",
    "```"
   ]
  },
  {
   "cell_type": "markdown",
   "metadata": {},
   "source": [
    "Create full working decode function and run it:"
   ]
  },
  {
   "cell_type": "markdown",
   "metadata": {},
   "source": [
    "def vigenere_decode(message, keyword):\n",
    "    alphabet = \"abcdefghijklmnopqrstuvwxyz\"\n",
    "    decoded = \"\"\n",
    "    keyword_index = 0\n",
    "\n",
    "    for char in message:\n",
    "        if char in alphabet:\n",
    "            key_char = keyword[keyword_index % len(keyword)]\n",
    "            shift = alphabet.index(key_char)\n",
    "\n",
    "            msg_index = alphabet.index(char)\n",
    "            new_index = (msg_index + shift) % 26\n",
    "            decoded += alphabet[new_index]\n",
    "\n",
    "            keyword_index += 1\n",
    "        else:\n",
    "            decoded += char\n",
    "\n",
    "    return decoded\n",
    "\n",
    "\n",
    "message = \"txm srom vkda gl lzlgzr qpdb? fepb ejac! ubr imn tapludwy mhfbz cza ruxzal wg zztcgcexxch!\"\n",
    "keyword = \"friends\"\n",
    "\n",
    "print(vigenere_decode(message, keyword))"
   ]
  },
  {
   "cell_type": "markdown",
   "metadata": {
    "collapsed": true,
    "jupyter": {
     "outputs_hidden": true
    }
   },
   "source": [
    "#### Step 6: Send a message with the  Vigenère Cipher"
   ]
  },
  {
   "cell_type": "markdown",
   "metadata": {},
   "source": [
    "Create full working encode function and run it:"
   ]
  },
  {
   "cell_type": "code",
   "execution_count": 14,
   "metadata": {},
   "outputs": [
    {
     "name": "stdout",
     "output_type": "stream",
     "text": [
      "azalno, qtl'zi nzwxfui! gkssba jbu lmv kmckww tpeyowsxmw!\n"
     ]
    }
   ],
   "source": [
    "def vigenere_encode(message, keyword):\n",
    "    alphabet = \"abcdefghijklmnopqrstuvwxyz\"\n",
    "    encoded = \"\"\n",
    "    keyword_index = 0\n",
    "\n",
    "    message = message.lower()\n",
    "    keyword = keyword.lower()\n",
    "\n",
    "    for char in message:\n",
    "        if char in alphabet:\n",
    "            key_char = keyword[keyword_index % len(keyword)]\n",
    "            shift = alphabet.index(key_char)\n",
    "\n",
    "            msg_index = alphabet.index(char)\n",
    "            new_index = (msg_index + shift) % 26  # ➕ for encoding\n",
    "            encoded += alphabet[new_index]\n",
    "\n",
    "            keyword_index += 1\n",
    "        else:\n",
    "            encoded += char\n",
    "\n",
    "    return encoded\n",
    "\n",
    "my_message = \"vishal, you're awesome! thanks for the cipher challenges!\"\n",
    "keyword = \"friends\"\n",
    "\n",
    "encoded = vigenere_encode(my_message, keyword)\n",
    "print(encoded)"
   ]
  }
 ],
 "metadata": {
  "kernelspec": {
   "display_name": "Python 3 (ipykernel)",
   "language": "python",
   "name": "python3"
  },
  "language_info": {
   "codemirror_mode": {
    "name": "ipython",
    "version": 3
   },
   "file_extension": ".py",
   "mimetype": "text/x-python",
   "name": "python",
   "nbconvert_exporter": "python",
   "pygments_lexer": "ipython3",
   "version": "3.13.3"
  }
 },
 "nbformat": 4,
 "nbformat_minor": 4
}
